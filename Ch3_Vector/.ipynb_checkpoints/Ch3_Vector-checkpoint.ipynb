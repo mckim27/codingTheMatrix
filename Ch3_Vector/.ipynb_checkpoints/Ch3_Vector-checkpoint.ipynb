{
 "cells": [
  {
   "cell_type": "markdown",
   "metadata": {
    "collapsed": true
   },
   "source": [
    "# Chapter 3. Vector"
   ]
  },
  {
   "cell_type": "markdown",
   "metadata": {},
   "source": [
    "### 3.1 벡터란 무엇인가?\n",
    "  * 전통적인 선형대수학 클래스에서는 벡터를 숫자들의 리스트로 생각하도록 가르친다.<br/><br/>\n",
    "  \n",
    "  * ex [3.14159, 2.718281828, -1.0, 2.0]\n",
    "  * 4개의실수를 원소로 가지는 벡터를 R상의 4-벡터라고 한다.<br/><br/>\n",
    "  \n",
    "  * 한 벡터의 모든 원소는 하나의 필드에서 나와야함. \n",
    "  * 앞 장에서 세가지 필드의 예는 R, C, GF(2) 이다.<br/><br/>\n",
    "  \n",
    "  * 그러므로 이들 각 필드상의 벡터를 가질 수 있다.\n",
    "  * 필드  F와 양의 정수 n에 대해 F에 속하는 n 개의 원소를 가지는 벡터를 F 상의 n-벡터라고 한다. \n",
    "  * F 상의 n-벡터들의 집합은 Fn(n위로...) 으로 나타낸다. 예를 들면 R 상의 4-벡터들의 집합을 R4 라고 쓴다.\n",
    "  * 이 표기법은 D 에서 F 로의 함수들의 집합에 대한 표기법인 FD를 생각나게 함. <br/><br/>\n",
    "  \n",
    "  * F4는 F{0,1,2,3,....d-1} 을 줄여 표현한 것으로 해석 가능.\n",
    "  * Fd 는 {0,1,... d-1}에서 F로의 함수들의 집합.\n",
    "  * 예를 들면 4-벡터 [3.14159, 2.718281828, -1.0, 2.0] 는 사실상 함수.\n",
    "    <pre>0 -> 3.14159\n",
    "    1 -> 2.718281828\n",
    "    2 -> -1.0\n",
    "    3 -> 2.0</pre>\n",
    "  \n",
    "    \n",
    "  "
   ]
  },
  {
   "cell_type": "markdown",
   "metadata": {},
   "source": [
    "\n",
    "\n",
    "\n"
   ]
  },
  {
   "cell_type": "markdown",
   "metadata": {},
   "source": [
    "### 3.2 벡터는 함수이다.\n",
    "* #### 3.2.1 파이썬의 딕셔너리를 이용한 벡터 표현<br/<br/>\n",
    "  * 앞에서 나온 4-벡터는 {0:3.14159, 1:2.718281828, 2:-1.0, 3:2.0} 로 나타낼 수 있다.<br/><br/>\n",
    "  * 앞의 예제에서 문서들의 word-bag 모델을 다루었다. 이 모델에서 문서는 R 상의 WORDS-벡터에 의해 표현됨.<br/>\n",
    "  이 벡터는 딕셔너리로 표현할 수 있겠지만 이렇게 표현한 딕셔너리는 아마도 20여만개의 key-value 쌍으로 구성...<br/>\n",
    "  일반적인 문서는 WORDS 내에 일부 단어만을 사용할 것임. 그러므로 대부분의 value 값은 0 이다.<br/> \n",
    "  각 벡터를 20만 원소를 가지는 딕셔너리로 표현하는 것은.....gg.  대신에 값이 영인 key-value 쌍을 생략하는 방식을 채용.<br/>\n",
    "  이것을 <font color=\"red\"><b>스파스(sparse)</b></font> 라고 표현.<br/><br/>\n",
    "  * ex - \"The rain in Spain falls mainly on the plain\" 이란 문서는 다음 딕셔너리에 의해 나타내어진다.\n",
    "    * {'on':1, 'Spain':1, 'in':1, 'plain':1, 'the':2, 'mainly':1, 'rain':1, 'false':1}\n",
    "   <br/><br/> \n",
    "* #### 3.2.2 Sparsity<br/>\n",
    "  * 대부분의 원소값이 0 인 벡터를 <font color=\"red\"><b>스파스 벡터</b></font>라고 한다.\n",
    "  * 0 이 아닌 원소의 수가 최대 k 개인 벡터는 k-스파스 라고 한다.\n",
    "  * 이 책의 다른 파트에서 스파스 하지 않은 데이터를 압축하는 방법 및 행령과 스파스에 대해 더 나옴...\n",
    "\n"
   ]
  },
  {
   "cell_type": "markdown",
   "metadata": {},
   "source": [
    "\n",
    "\n"
   ]
  },
  {
   "cell_type": "markdown",
   "metadata": {},
   "source": [
    "### 3.3 벡터로 무엇을 표현할 수 있는가 ?\n",
    "  * 이진 문자열\n",
    "    * n-비트 이진 문자열 10111011 -> GF(2) 상의 n-벡터, {1,0,1,1,1,0,1,1}<br/><br/>\n",
    "    \n",
    "  * 속성\n",
    "    * Jane = {'age':30, 'education level':16, 'income':85000}<br/><br/>\n",
    "    \n",
    "  * 시스템의 상태\n",
    "    * 세계를 나타내는 데 사용될 수 있는 인구. <br/>\n",
    "    인구가 가장 많은 5개 국가의 인구를 명시<br/>\n",
    "    {'China':1341670000, 'India':1192570000, 'US':308745638, 'Indonesia'237556363:, 'Brazil':190732694}<br/><br/>\n",
    "  \n",
    "  * 확률 분포\n",
    "    * 아래와 같이, 유한한 확률 분포는 유한한 정의역에서 실수로의 함수이다.<br/> 따라서 확률 분포는 벡터로 간주할 수 있다.<br/>\n",
    "    {1:1/6, 2:1/6, 3:1/6, 4:1/6, 5:1/6, 6:1/6}<br/><br/>\n",
    "  \n",
    "  * 이미지\n",
    "    * 1024 X 768 의 흑백 이미지는 쌍등의 집합 {(i,j) : 0 <= i < 1024, 0 <= j < 768 } 에서 실수로의 함수로 볼 수 있고, <br/>\n",
    "    따라서 벡터로 볼 수 있다.<br/><br/>\n",
    "    "
   ]
  },
  {
   "cell_type": "markdown",
   "metadata": {},
   "source": [
    "* 공간상의 점\n",
    "    * 2 장에서 평면의 점들을 복소수에 의해 푠현될 수 있음을 사펴보았음...<br/>\n",
    "    이후로는 벡터를 사용하여 평면, 3차원 그리고 더 높은 차원의 공간에 있는 점들을 나타낸다.\n",
    "    \n",
    "      \n",
    "\n"
   ]
  },
  {
   "cell_type": "markdown",
   "metadata": {},
   "source": [
    "### 3.4 벡터 덧셈\n",
    "* #### 3.4.1 평행이동과 벡터 덧셈\n",
    "  * 벡터들의 덧셈은 대응하는 원소들의 덧셈으로 정의된다.\n",
    "  * <font color=\"blue\">[u1, u2, u3, ... un] + [v1, v2, v3, ...vn] = [u1 + v1, u2 + v2, u3 + v3 ... un + vn]</font>"
   ]
  },
  {
   "cell_type": "code",
   "execution_count": 1,
   "metadata": {
    "collapsed": false
   },
   "outputs": [
    {
     "data": {
      "text/plain": [
       "[3, 5]"
      ]
     },
     "execution_count": 1,
     "metadata": {},
     "output_type": "execute_result"
    }
   ],
   "source": [
    "def add2(v, w):\n",
    "    return [v[0] + w[0], v[1] + w[1]]\n",
    "\n",
    "v = [1, 3]\n",
    "w = [2, 2]\n",
    "\n",
    "add2(v, w)"
   ]
  },
  {
   "cell_type": "markdown",
   "metadata": {},
   "source": [
    "\n",
    "\n"
   ]
  },
  {
   "cell_type": "markdown",
   "metadata": {},
   "source": [
    "\n",
    "* #### 3.4.2 벡터 덧셈의 결합성과 교환성<br/>\n",
    "  * 덧셈의 결합성 : (x + y) + z = x + (y + z)\n",
    "  * 덧셈의 교환성 : x + y = y + x <br/><br/>"
   ]
  },
  {
   "cell_type": "markdown",
   "metadata": {},
   "source": [
    "* #### 3.4.3 벡터를 화살표로 표현하기"
   ]
  },
  {
   "cell_type": "code",
   "execution_count": 1,
   "metadata": {
    "collapsed": false
   },
   "outputs": [],
   "source": [
    "%matplotlib inline  "
   ]
  },
  {
   "cell_type": "code",
   "execution_count": 2,
   "metadata": {
    "collapsed": false
   },
   "outputs": [],
   "source": [
    "import matplotlib\n",
    "import numpy as np\n",
    "import matplotlib.pyplot as plt"
   ]
  },
  {
   "cell_type": "code",
   "execution_count": 91,
   "metadata": {
    "collapsed": false
   },
   "outputs": [
    {
     "data": {
      "image/png": "[encoded data removed]",
      "text/plain": [
       "<matplotlib.figure.Figure at 0x593b850>"
      ]
     },
     "metadata": {},
     "output_type": "display_data"
    }
   ],
   "source": [
    "soa = np.array( [ [0,0, 3,1.5] ]) \n",
    "X,Y,U,V = zip(*soa)\n",
    "ax = plt.gca()\n",
    "ax.quiver(X,Y,U,V,angles='xy',scale_units='xy',scale=1)\n",
    "ax.set_xlim([-5,5])\n",
    "ax.set_ylim([-5,5])\n",
    "plt.draw()\n",
    "plt.grid(True)\n",
    "plt.show()"
   ]
  },
  {
   "cell_type": "markdown",
   "metadata": {},
   "source": [
    "### 3.5 스칼라-벡터 곱셈\n",
    "  * 2 장에서 나온 스케일링은 복소평면에서 입력된 복소수를 양의 실수 r와 곱하는 함수 f(z) = rz에 의해 나타낼 수 있다. 음의 실수를 곱하면 동일하지만 180도 회전된 스케일링을 얻음. 벡터에도 비슷한 연산이 있는데 이를 스칼라-벡터 곱이라고(scalar-vector muliplication) 부른다.<br/><br/>\n",
    "  \n",
    "  * 벡터에서 필드 원소(예를 들어 숫자)는 스칼라라고 지칭함.<br/><br/>\n",
    "  \n",
    "  * 벡터 v와 스칼라 a(알파)의 곱셈은 v의 원소 각을 a와 곱하는 것으로 정의된다.<br/>\n",
    "    * a[v1,v2....vn] = [av1, av2....avn]\n",
    "    * 2[5,4,10] = [10, 8, 20]\n",
    "    "
   ]
  },
  {
   "cell_type": "code",
   "execution_count": 1,
   "metadata": {
    "collapsed": false
   },
   "outputs": [
    {
     "data": {
      "text/plain": [
       "[3, 6, 9]"
      ]
     },
     "execution_count": 1,
     "metadata": {},
     "output_type": "execute_result"
    }
   ],
   "source": [
    "def scalar_vector_mult(alpha, v):\n",
    "    return [alpha * v[i] for i in range(len(v))]\n",
    "\n",
    "v = [1 ,2 ,3]\n",
    "alpha = 3\n",
    "scalar_vector_mult(alpha, v)"
   ]
  },
  {
   "cell_type": "markdown",
   "metadata": {},
   "source": [
    "* #### 3.5.1 화살표호 스케일링하기"
   ]
  },
  {
   "cell_type": "code",
   "execution_count": 84,
   "metadata": {
    "collapsed": false
   },
   "outputs": [
    {
     "data": {
      "image/png": "[encoded data removed]",
      "text/plain": [
       "<matplotlib.figure.Figure at 0x59e4c90>"
      ]
     },
     "metadata": {},
     "output_type": "display_data"
    }
   ],
   "source": [
    "soa = np.array( [[0,0, 2,2] ]) \n",
    "X,Y,U,V = zip(*soa)\n",
    "ax = plt.gca()\n",
    "ax.quiver(X,Y,U,V,angles='xy',scale_units='xy',scale=0.5)\n",
    "ax.set_xlim([-8,8])\n",
    "ax.set_ylim([-8,8])\n",
    "plt.draw()\n",
    "plt.grid(True)\n",
    "plt.show()"
   ]
  },
  {
   "cell_type": "markdown",
   "metadata": {},
   "source": [
    "* #### 3.5.2 스칼라-벡터 곱셈의 결합성\n",
    "  * a(bv) = (ab)v"
   ]
  },
  {
   "cell_type": "markdown",
   "metadata": {},
   "source": [
    "\n",
    "* #### 3.5.3 원점을 지나는 선분"
   ]
  },
  {
   "cell_type": "markdown",
   "metadata": {},
   "source": [
    "\n",
    "* #### 3.5.4 원점을 지나는 직선"
   ]
  },
  {
   "cell_type": "markdown",
   "metadata": {},
   "source": [
    "\n",
    "\n"
   ]
  },
  {
   "cell_type": "markdown",
   "metadata": {},
   "source": [
    "### 3.6 벡터 덧셈과 스칼라 곱셈 결합하기"
   ]
  },
  {
   "cell_type": "markdown",
   "metadata": {},
   "source": [
    "* #### 3.6.1 원점을 지나지 않는 선분과 직선\n"
   ]
  },
  {
   "cell_type": "markdown",
   "metadata": {},
   "source": [
    "* #### 3.6.2 스칼라-벡터 곱셈과 벡터 덧셈의 분배 법칙\n",
    "  * 이 두 성질은 필드에 대한 분배 법칙 x(y + z) = xy + xz 에서 비롯됨.<br/><br/>\n",
    "  * 2([1,2,3] + [3,4,4]) = 2[1,2,3] + 2[3,4,4] = [2,4,6] + [6,8,8] = [8,12,14]\n",
    "  "
   ]
  },
  {
   "cell_type": "markdown",
   "metadata": {},
   "source": [
    "* #### 3.6.3 블록결합 (Convex combination) 들여다 보기"
   ]
  },
  {
   "cell_type": "markdown",
   "metadata": {},
   "source": [
    "* [0.5, 1] [3.5, 3]을 잇는 선분을 이루는 점들의 집합에 대한 표현식은<br/> \n",
    "  {a[3, 2] + [0.5, 1] : a <- R, 0<= a <= 1}"
   ]
  },
  {
   "cell_type": "markdown",
   "metadata": {},
   "source": [
    "* 위 표현식의 형태가 선분의 한 끝 점은 포함하는 데 다른 끝점은 포함하지 않는다는 것이 이상하게 보일 수 있다. 이러한 비대칭은 부적절 ???"
   ]
  },
  {
   "cell_type": "markdown",
   "metadata": {},
   "source": [
    "* 약간의 벡터 대수학을 사용하여 더 나은 표현식을 얻을 수 있음.\n"
   ]
  },
  {
   "cell_type": "markdown",
   "metadata": {},
   "source": [
    "<pre>\n",
    "a[3, 2] + [0.5, 1] = a([3.5, 3] - [0.5, 1]) + [0.5, 1]\n",
    "                   = a[3.5, 3] - a[0.5, 1] + [0.5, 1]\n",
    "                   = a[3.4, 3] + (1 - a)[0.5, 1]\n",
    "                   = a[3.5, 3] + b[0.5, 1]\n",
    "                   // b = 1 - a\n",
    "</pre>"
   ]
  },
  {
   "cell_type": "markdown",
   "metadata": {},
   "source": [
    "* 이제 [0.5, 1] 과 [3.5, 3]을 잇는 선분에 대한 표현식을 다음과 같이 나타낼 수 있다.<br/><br/>\n",
    "  * {a[3.5, 3] + b[0.5, 1] : a, b <- R, a,b >= 0, a + b = 1}"
   ]
  },
  {
   "cell_type": "markdown",
   "metadata": {},
   "source": [
    "* 책 85 3.6.10 example 신기 방기 !!"
   ]
  },
  {
   "cell_type": "markdown",
   "metadata": {},
   "source": [
    "#### 3.6.4 아핀결합 (Affine combination) 들여다 보기"
   ]
  },
  {
   "cell_type": "markdown",
   "metadata": {},
   "source": [
    "* [0.5, 1], [3.5, 3] 을 지나는 무한 직선에 대해 알아보자.<br/>\n",
    "  이러한 직선은 {[0.5, 1] + a[3, 2] : a <- R} 의 점들로 구성됨.<br/>\n",
    "  비슷한 방식으로 이 집합을 아래와 같이 쓸 수 있다."
   ]
  },
  {
   "cell_type": "markdown",
   "metadata": {},
   "source": [
    "* { a[3.5, 3] + b[0.5, 1] : a <- <font color=\"blue\"><b>R</b></font>, b <- R, a + b = 1}"
   ]
  },
  {
   "cell_type": "markdown",
   "metadata": {},
   "source": [
    "\n",
    "\n"
   ]
  },
  {
   "cell_type": "markdown",
   "metadata": {},
   "source": [
    "### 3.7 딕셔너리에 기반을 둔 벡터 표현\n",
    "\n"
   ]
  },
  {
   "cell_type": "code",
   "execution_count": 2,
   "metadata": {
    "collapsed": true
   },
   "outputs": [],
   "source": [
    "class Vec :\n",
    "    def __init__(self, labels, function):\n",
    "        self.D = labels\n",
    "        self.f = function"
   ]
  },
  {
   "cell_type": "code",
   "execution_count": 6,
   "metadata": {
    "collapsed": false
   },
   "outputs": [
    {
     "data": {
      "text/plain": [
       "<__main__.Vec instance at 0x1f095f0>"
      ]
     },
     "execution_count": 6,
     "metadata": {},
     "output_type": "execute_result"
    }
   ],
   "source": [
    "Vec({'A','B','C'}, {'A':1})"
   ]
  },
  {
   "cell_type": "code",
   "execution_count": 7,
   "metadata": {
    "collapsed": false
   },
   "outputs": [],
   "source": [
    "v = Vec({'A','B','C'}, {'A':1})"
   ]
  },
  {
   "cell_type": "code",
   "execution_count": 8,
   "metadata": {
    "collapsed": false
   },
   "outputs": [
    {
     "name": "stdout",
     "output_type": "stream",
     "text": [
      "1\n"
     ]
    }
   ],
   "source": [
    "for d in v.D :\n",
    "    if d in v.f :\n",
    "        print(v.f[d])"
   ]
  },
  {
   "cell_type": "markdown",
   "metadata": {},
   "source": [
    "####3.7.1 setter, getter"
   ]
  },
  {
   "cell_type": "code",
   "execution_count": 10,
   "metadata": {
    "collapsed": true
   },
   "outputs": [],
   "source": [
    "def setitem(v, d, val) : v.f[d] = val"
   ]
  },
  {
   "cell_type": "code",
   "execution_count": 11,
   "metadata": {
    "collapsed": true
   },
   "outputs": [],
   "source": [
    "setitem(v, 'B', 2)"
   ]
  },
  {
   "cell_type": "code",
   "execution_count": 12,
   "metadata": {
    "collapsed": false
   },
   "outputs": [
    {
     "name": "stdout",
     "output_type": "stream",
     "text": [
      "<__main__.Vec instance at 0x1f035a8>\n"
     ]
    }
   ],
   "source": [
    "                            "
   ]
  },
  {
   "cell_type": "code",
   "execution_count": 13,
   "metadata": {
    "collapsed": true
   },
   "outputs": [],
   "source": [
    "def getitem(v, d) : return v.f[d] if d in v.f else 0"
   ]
  },
  {
   "cell_type": "code",
   "execution_count": 15,
   "metadata": {
    "collapsed": false
   },
   "outputs": [
    {
     "data": {
      "text/plain": [
       "1"
      ]
     },
     "execution_count": 15,
     "metadata": {},
     "output_type": "execute_result"
    }
   ],
   "source": [
    "getitem(v, 'A')"
   ]
  },
  {
   "cell_type": "code",
   "execution_count": 17,
   "metadata": {
    "collapsed": false
   },
   "outputs": [
    {
     "data": {
      "text/plain": [
       "2"
      ]
     },
     "execution_count": 17,
     "metadata": {},
     "output_type": "execute_result"
    }
   ],
   "source": [
    "getitem(v, 'B')"
   ]
  },
  {
   "cell_type": "code",
   "execution_count": 18,
   "metadata": {
    "collapsed": false
   },
   "outputs": [
    {
     "data": {
      "text/plain": [
       "0"
      ]
     },
     "execution_count": 18,
     "metadata": {},
     "output_type": "execute_result"
    }
   ],
   "source": [
    "getitem(v, 'C')"
   ]
  },
  {
   "cell_type": "code",
   "execution_count": null,
   "metadata": {
    "collapsed": true
   },
   "outputs": [],
   "source": []
  },
  {
   "cell_type": "markdown",
   "metadata": {},
   "source": [
    "####3.7.1 스칼라-벡터 곱셈"
   ]
  },
  {
   "cell_type": "markdown",
   "metadata": {},
   "source": [
    "* 다음 스펙을 가지는 프로시저, scalar_mul(v, alpha) 을 작성해보자\n",
    "  * input  : Vec의 인스턴스와 스칼라 alpha\n",
    "  * output : 스칼라-벡터 곱 alpha x v 를 나타내는 Vec의 새로운 인스턴스"
   ]
  },
  {
   "cell_type": "code",
   "execution_count": 19,
   "metadata": {
    "collapsed": true
   },
   "outputs": [],
   "source": [
    " def scalar_mul(v, alpha) :\n",
    "    return Vec(v.D, {d:alpha * getitem(v, d) for d in V.d})"
   ]
  },
  {
   "cell_type": "code",
   "execution_count": null,
   "metadata": {
    "collapsed": true
   },
   "outputs": [],
   "source": []
  },
  {
   "cell_type": "code",
   "execution_count": 20,
   "metadata": {
    "collapsed": true
   },
   "outputs": [],
   "source": [
    " def scalar_mul(v, alpha) :\n",
    "    return Vec(v.D, {d:alpha * value for d, value in v.f.items()})"
   ]
  },
  {
   "cell_type": "code",
   "execution_count": 21,
   "metadata": {
    "collapsed": false
   },
   "outputs": [
    {
     "data": {
      "text/plain": [
       "<__main__.Vec instance at 0x1f184d0>"
      ]
     },
     "execution_count": 21,
     "metadata": {},
     "output_type": "execute_result"
    }
   ],
   "source": [
    "scalar_mul(v, 2)"
   ]
  },
  {
   "cell_type": "code",
   "execution_count": 22,
   "metadata": {
    "collapsed": false
   },
   "outputs": [
    {
     "data": {
      "text/plain": [
       "{'A': 2, 'B': 4}"
      ]
     },
     "execution_count": 22,
     "metadata": {},
     "output_type": "execute_result"
    }
   ],
   "source": [
    "scalar_mul(v, 2).f"
   ]
  },
  {
   "cell_type": "code",
   "execution_count": null,
   "metadata": {
    "collapsed": true
   },
   "outputs": [],
   "source": []
  },
  {
   "cell_type": "markdown",
   "metadata": {},
   "source": [
    "####3.7.2 덧셈"
   ]
  },
  {
   "cell_type": "markdown",
   "metadata": {},
   "source": [
    "* 다음 스펙을 가지는 프로시저, add(u, v)을 작성해보자.\n",
    "  * input  : Vec의 인스턴스 u 와 v\n",
    "  * output : u 와 v의 벡터 합인 Vec의 인스턴스"
   ]
  },
  {
   "cell_type": "code",
   "execution_count": 23,
   "metadata": {
    "collapsed": true
   },
   "outputs": [],
   "source": [
    "def add(u, v) :\n",
    "    return Vec(u.D, {d:getitem(u, d) + getitem(v, d) for d in u.D})"
   ]
  },
  {
   "cell_type": "code",
   "execution_count": 24,
   "metadata": {
    "collapsed": true
   },
   "outputs": [],
   "source": [
    "u = Vec(v.D, {'A':5, 'C':10})"
   ]
  },
  {
   "cell_type": "code",
   "execution_count": 25,
   "metadata": {
    "collapsed": false
   },
   "outputs": [
    {
     "data": {
      "text/plain": [
       "<__main__.Vec instance at 0x1f0d5a8>"
      ]
     },
     "execution_count": 25,
     "metadata": {},
     "output_type": "execute_result"
    }
   ],
   "source": [
    "add(u, v)"
   ]
  },
  {
   "cell_type": "code",
   "execution_count": 26,
   "metadata": {
    "collapsed": false
   },
   "outputs": [
    {
     "data": {
      "text/plain": [
       "{'A': 6, 'B': 2, 'C': 10}"
      ]
     },
     "execution_count": 26,
     "metadata": {},
     "output_type": "execute_result"
    }
   ],
   "source": [
    "add(u, v).f"
   ]
  },
  {
   "cell_type": "markdown",
   "metadata": {},
   "source": [
    "#### 3.7.4 음의 벡터, 벡터 덧셈의 가역성, 벡터 뻴셈"
   ]
  },
  {
   "cell_type": "markdown",
   "metadata": {},
   "source": [
    "* 벡터를 화살표로 나타낼 경우 v 와 -v는 동일한 길이를 가지며 방향이 완전히 정반대를 가르키는 화살표."
   ]
  },
  {
   "cell_type": "markdown",
   "metadata": {},
   "source": [
    "* 벡터 뺄셈은 벡터 덧셈의 역\n",
    "  * 어떤 벡터 w에 대해, 다음 함수를 고려해보면... f(v) = v + w 이 함수는 w를 더한다.\n",
    "  * 그리고 이 함수는 그 입력에서 w를 빼는 것...   g(v) = v - w\n",
    "  <br/><br/>\n",
    "  * 하나의 함수는 w 만큼 평행이동. 다른 하나는 그 입력을 -w만큼 평행이동 한 것. 서로 역함수이다."
   ]
  },
  {
   "cell_type": "markdown",
   "metadata": {},
   "source": [
    "<pre>\n",
    "(g o f)(v) = g(f(v))\n",
    "           = g(v + w)\n",
    "           = v + w - w \n",
    "           = v\n",
    "\n",
    "</pre>"
   ]
  },
  {
   "cell_type": "markdown",
   "metadata": {},
   "source": [
    "* 다름 스펙을 가지는 파이썬 프로시저, neg(v)를 작성해 보자.\n",
    "  * input  : Vec의 인스턴스 v\n",
    "  * output : 음의 v를 나타내는 딕셔너리"
   ]
  },
  {
   "cell_type": "code",
   "execution_count": 28,
   "metadata": {
    "collapsed": true
   },
   "outputs": [],
   "source": [
    "def neg(v):\n",
    "    return Vec(v.D, {d:-getitem(v, d) for d in v.D})\n",
    "\n",
    "def neg(v):\n",
    "    return Vec(v.D, {key:-value for key, value in v.f.items()})\n",
    "\n",
    "def neg(v):\n",
    "    return scalar_mul(v, -1)"
   ]
  },
  {
   "cell_type": "code",
   "execution_count": 29,
   "metadata": {
    "collapsed": false
   },
   "outputs": [
    {
     "data": {
      "text/plain": [
       "{'A': -1, 'B': -2}"
      ]
     },
     "execution_count": 29,
     "metadata": {},
     "output_type": "execute_result"
    }
   ],
   "source": [
    "neg(v).f"
   ]
  }
 ],
 "metadata": {
  "kernelspec": {
   "display_name": "Python 2",
   "language": "python",
   "name": "python2"
  },
  "language_info": {
   "codemirror_mode": {
    "name": "ipython",
    "version": 2
   },
   "file_extension": ".py",
   "mimetype": "text/x-python",
   "name": "python",
   "nbconvert_exporter": "python",
   "pygments_lexer": "ipython2",
   "version": "2.7.5"
  }
 },
 "nbformat": 4,
 "nbformat_minor": 0
}
